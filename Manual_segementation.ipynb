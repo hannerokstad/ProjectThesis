{
 "cells": [
  {
   "cell_type": "markdown",
   "metadata": {},
   "source": [
    "# Manual segmentation of ROI"
   ]
  },
  {
   "cell_type": "markdown",
   "metadata": {},
   "source": [
    "In this Notebook the general layout of how the manual ROIs were defined is presented. To use this for all images, insert in the respective Notebook and change the input parameter to the images you want to segment. This code will not work unless images have been loaded and used as input in the following function."
   ]
  },
  {
   "cell_type": "code",
   "execution_count": null,
   "metadata": {},
   "outputs": [],
   "source": [
    "from mpl_interactions import image_segmenter\n",
    "import numpy as np\n",
    "%matplotlib ipympl # For interactive plotting to draw ROI. Should be commented out when not defining ROIs."
   ]
  },
  {
   "cell_type": "code",
   "execution_count": null,
   "metadata": {},
   "outputs": [],
   "source": [
    "def save_segmented_roi(image):\n",
    "    '''\n",
    "    Manual segmentation of the ROI by drawing it manually on the image\n",
    "    \n",
    "    Input:\n",
    "    image: 2D array, image to segment\n",
    "    \n",
    "    Output:\n",
    "    mask: 2D array, binary mask of the ROI\n",
    "    '''\n",
    "    # Display the image and allow the user to draw a mask in red\n",
    "    segmenter = image_segmenter(image, mask_colors=\"red\", mask_alpha=0.76, figsize=(7, 7), cmap='gray')\n",
    "    display(segmenter)\n",
    "    \n",
    "    # Define the mask from this drawing\n",
    "    mask = segmenter.mask\n",
    "    return mask"
   ]
  },
  {
   "cell_type": "markdown",
   "metadata": {},
   "source": [
    "Example of usage where the image index can be altered to go through each slice after saving the mask in the cell below."
   ]
  },
  {
   "cell_type": "code",
   "execution_count": null,
   "metadata": {},
   "outputs": [],
   "source": [
    "img_idx = 14\n",
    "mask = save_segmented_roi(ref_img_cropped[:, :, img_idx].copy()) # Use copy to not alter original image"
   ]
  },
  {
   "cell_type": "code",
   "execution_count": null,
   "metadata": {},
   "outputs": [],
   "source": [
    "np.save(f'../ROI/through_slice/idx{img_idx}.npy', mask)"
   ]
  },
  {
   "cell_type": "markdown",
   "metadata": {},
   "source": [
    "## Defining multiple ROIs in the same mask\n",
    "\n",
    "For multiple ROIs in the same mask, it is better to do it in a step-wise manner, where the first and second cell below is alternatingly ran until all ROIs have been drawn (current_class = 4 for last iteration). Then the last cell is ran to save the mask as a whole."
   ]
  },
  {
   "cell_type": "code",
   "execution_count": null,
   "metadata": {},
   "outputs": [],
   "source": [
    "img_idx = 14\n",
    "multi_class_segmenter = image_segmenter(ref_img_boundary[:, :, img_idx].copy(), nclasses=4, mask_alpha=0.76, cmap = 'gray')\n",
    "display(multi_class_segmenter)"
   ]
  },
  {
   "cell_type": "code",
   "execution_count": null,
   "metadata": {},
   "outputs": [],
   "source": [
    "multi_class_segmenter.current_class = 2 # Change from 1 up to nclasses to get all ROIs for the same mask saved separately in the same file"
   ]
  },
  {
   "cell_type": "code",
   "execution_count": null,
   "metadata": {},
   "outputs": [],
   "source": [
    "np.save('ROI/BW_2/slice_' + str(l) + '.npy', multi_class_segmenter.mask)"
   ]
  },
  {
   "cell_type": "code",
   "execution_count": null,
   "metadata": {},
   "outputs": [],
   "source": [
    "np.save('../ROI/BW_2/slice_' + str(img_idx) + '.npy', multi_class_segmenter.mask)"
   ]
  }
 ],
 "metadata": {
  "kernelspec": {
   "display_name": "sia",
   "language": "python",
   "name": "python3"
  },
  "language_info": {
   "name": "python",
   "version": "3.12.1"
  }
 },
 "nbformat": 4,
 "nbformat_minor": 2
}
